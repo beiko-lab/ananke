{
 "cells": [
  {
   "cell_type": "code",
   "execution_count": 14,
   "metadata": {},
   "outputs": [],
   "source": [
    "from ananke.database import Ananke\n",
    "from ananke._simulation import AnankeSimulationClassifier\n",
    "\n",
    "from functools import partial\n",
    "\n",
    "import numpy as np\n",
    "from sklearn.model_selection import GridSearchCV\n",
    "from sklearn.metrics import make_scorer"
   ]
  },
  {
   "cell_type": "code",
   "execution_count": 31,
   "metadata": {},
   "outputs": [],
   "source": [
    "param_ranges = [{\n",
    "'nts': np.arange(5,1000,100),\n",
    "'signal_variance': np.arange(0.8,1.5,0.1)\n",
    "},\n",
    "{}]"
   ]
  },
  {
   "cell_type": "code",
   "execution_count": 32,
   "metadata": {},
   "outputs": [
    {
     "name": "stdout",
     "output_type": "stream",
     "text": [
      "100.00%\r"
     ]
    },
    {
     "name": "stderr",
     "output_type": "stream",
     "text": [
      "/home/mwhall/anaconda3/envs/ananke/lib/python3.6/site-packages/ananke/_distances.py:33: FutureWarning:\n",
      "\n",
      "Conversion of the second argument of issubdtype from `float` to `np.floating` is deprecated. In future, it will be treated as `np.float64 == np.dtype(float).type`.\n",
      "\n"
     ]
    },
    {
     "name": "stdout",
     "output_type": "stream",
     "text": [
      "100.00%\r"
     ]
    },
    {
     "name": "stderr",
     "output_type": "stream",
     "text": [
      "/home/mwhall/anaconda3/envs/ananke/lib/python3.6/site-packages/ananke/DBloomSCAN.py:172: RuntimeWarning:\n",
      "\n",
      "divide by zero encountered in double_scalars\n",
      "\n"
     ]
    },
    {
     "name": "stdout",
     "output_type": "stream",
     "text": [
      "100.00%\r"
     ]
    },
    {
     "data": {
      "text/plain": [
       "GridSearchCV(cv=2, error_score='raise-deprecating',\n",
       "       estimator=AnankeSimulationClassifier(max_shift=10, nclust=10, noise_ratio=1, nts=20,\n",
       "              nts_per_clust=10, signal_variance=1.2),\n",
       "       fit_params=None, iid='warn', n_jobs=None,\n",
       "       param_grid=[{'nts': array([  5,  35,  65,  95, 125, 155, 185, 215, 245, 275, 305, 335, 365,\n",
       "       395, 425, 455, 485, 515, 545, 575, 605, 635, 665, 695, 725, 755,\n",
       "       785, 815, 845, 875, 905, 935, 965, 995])}, {'signal_variance': array([0.8, 0.9, 1. , 1.1, 1.2, 1.3, 1.4])}],\n",
       "       pre_dispatch='2*n_jobs', refit=False, return_train_score='warn',\n",
       "       scoring={'euclidean': functools.partial(<function score_wrapper at 0x7ff4c19b1a60>, dist_measure='euclidean'), 'sts': functools.partial(<function score_wrapper at 0x7ff4c19b1a60>, dist_measure='sts'), 'dtw': functools.partial(<function score_wrapper at 0x7ff4c19b1a60>, dist_measure='dtw'), 'ddtw': functools.partial(<function score_wrapper at 0x7ff4c19b1a60>, dist_measure='ddtw')},\n",
       "       verbose=0)"
      ]
     },
     "execution_count": 32,
     "metadata": {},
     "output_type": "execute_result"
    }
   ],
   "source": [
    "asc = AnankeSimulationClassifier()\n",
    "def score_wrapper(clf, X, y=None, dist_measure=\"euclidean\"):\n",
    "    return clf.score(np.zeros(shape=(10,10)),dist_measure=dist_measure)\n",
    "gs = GridSearchCV(asc, param_ranges, refit=False, cv=10, scoring={\"euclidean\": partial(score_wrapper, dist_measure=\"euclidean\"),\n",
    "                                                                \"sts\": partial(score_wrapper, dist_measure=\"sts\"),\n",
    "                                                                \"dtw\": partial(score_wrapper, dist_measure=\"dtw\"),\n",
    "                                                                \"ddtw\": partial(score_wrapper, dist_measure=\"ddtw\")})\n",
    "gs.fit(np.zeros(shape=(10,10)))"
   ]
  },
  {
   "cell_type": "code",
   "execution_count": 34,
   "metadata": {
    "scrolled": false
   },
   "outputs": [
    {
     "name": "stderr",
     "output_type": "stream",
     "text": [
      "/home/mwhall/anaconda3/envs/ananke/lib/python3.6/site-packages/sklearn/utils/deprecation.py:125: FutureWarning:\n",
      "\n",
      "You are accessing a training score ('mean_train_ddtw'), which will not be available by default any more in 0.21. If you need training scores, please set return_train_score=True\n",
      "\n",
      "/home/mwhall/anaconda3/envs/ananke/lib/python3.6/site-packages/sklearn/utils/deprecation.py:125: FutureWarning:\n",
      "\n",
      "You are accessing a training score ('mean_train_dtw'), which will not be available by default any more in 0.21. If you need training scores, please set return_train_score=True\n",
      "\n",
      "/home/mwhall/anaconda3/envs/ananke/lib/python3.6/site-packages/sklearn/utils/deprecation.py:125: FutureWarning:\n",
      "\n",
      "You are accessing a training score ('mean_train_euclidean'), which will not be available by default any more in 0.21. If you need training scores, please set return_train_score=True\n",
      "\n",
      "/home/mwhall/anaconda3/envs/ananke/lib/python3.6/site-packages/sklearn/utils/deprecation.py:125: FutureWarning:\n",
      "\n",
      "You are accessing a training score ('mean_train_sts'), which will not be available by default any more in 0.21. If you need training scores, please set return_train_score=True\n",
      "\n",
      "/home/mwhall/anaconda3/envs/ananke/lib/python3.6/site-packages/sklearn/utils/deprecation.py:125: FutureWarning:\n",
      "\n",
      "You are accessing a training score ('split0_train_ddtw'), which will not be available by default any more in 0.21. If you need training scores, please set return_train_score=True\n",
      "\n",
      "/home/mwhall/anaconda3/envs/ananke/lib/python3.6/site-packages/sklearn/utils/deprecation.py:125: FutureWarning:\n",
      "\n",
      "You are accessing a training score ('split0_train_dtw'), which will not be available by default any more in 0.21. If you need training scores, please set return_train_score=True\n",
      "\n",
      "/home/mwhall/anaconda3/envs/ananke/lib/python3.6/site-packages/sklearn/utils/deprecation.py:125: FutureWarning:\n",
      "\n",
      "You are accessing a training score ('split0_train_euclidean'), which will not be available by default any more in 0.21. If you need training scores, please set return_train_score=True\n",
      "\n",
      "/home/mwhall/anaconda3/envs/ananke/lib/python3.6/site-packages/sklearn/utils/deprecation.py:125: FutureWarning:\n",
      "\n",
      "You are accessing a training score ('split0_train_sts'), which will not be available by default any more in 0.21. If you need training scores, please set return_train_score=True\n",
      "\n",
      "/home/mwhall/anaconda3/envs/ananke/lib/python3.6/site-packages/sklearn/utils/deprecation.py:125: FutureWarning:\n",
      "\n",
      "You are accessing a training score ('split1_train_ddtw'), which will not be available by default any more in 0.21. If you need training scores, please set return_train_score=True\n",
      "\n",
      "/home/mwhall/anaconda3/envs/ananke/lib/python3.6/site-packages/sklearn/utils/deprecation.py:125: FutureWarning:\n",
      "\n",
      "You are accessing a training score ('split1_train_dtw'), which will not be available by default any more in 0.21. If you need training scores, please set return_train_score=True\n",
      "\n",
      "/home/mwhall/anaconda3/envs/ananke/lib/python3.6/site-packages/sklearn/utils/deprecation.py:125: FutureWarning:\n",
      "\n",
      "You are accessing a training score ('split1_train_euclidean'), which will not be available by default any more in 0.21. If you need training scores, please set return_train_score=True\n",
      "\n",
      "/home/mwhall/anaconda3/envs/ananke/lib/python3.6/site-packages/sklearn/utils/deprecation.py:125: FutureWarning:\n",
      "\n",
      "You are accessing a training score ('split1_train_sts'), which will not be available by default any more in 0.21. If you need training scores, please set return_train_score=True\n",
      "\n",
      "/home/mwhall/anaconda3/envs/ananke/lib/python3.6/site-packages/sklearn/utils/deprecation.py:125: FutureWarning:\n",
      "\n",
      "You are accessing a training score ('std_train_ddtw'), which will not be available by default any more in 0.21. If you need training scores, please set return_train_score=True\n",
      "\n",
      "/home/mwhall/anaconda3/envs/ananke/lib/python3.6/site-packages/sklearn/utils/deprecation.py:125: FutureWarning:\n",
      "\n",
      "You are accessing a training score ('std_train_dtw'), which will not be available by default any more in 0.21. If you need training scores, please set return_train_score=True\n",
      "\n",
      "/home/mwhall/anaconda3/envs/ananke/lib/python3.6/site-packages/sklearn/utils/deprecation.py:125: FutureWarning:\n",
      "\n",
      "You are accessing a training score ('std_train_euclidean'), which will not be available by default any more in 0.21. If you need training scores, please set return_train_score=True\n",
      "\n",
      "/home/mwhall/anaconda3/envs/ananke/lib/python3.6/site-packages/sklearn/utils/deprecation.py:125: FutureWarning:\n",
      "\n",
      "You are accessing a training score ('std_train_sts'), which will not be available by default any more in 0.21. If you need training scores, please set return_train_score=True\n",
      "\n"
     ]
    },
    {
     "data": {
      "text/plain": [
       "{'mean_fit_time': array([41.67428207, 41.56640267, 38.89319968, 40.9933337 , 39.62130523,\n",
       "        41.54346716, 40.66262949, 41.33383822, 37.09851861, 40.71470582,\n",
       "        40.59698474, 41.35989082, 41.73408377, 40.28619719, 41.32620049,\n",
       "        41.32621717, 41.10242558, 39.85783243, 41.090644  , 41.80736768,\n",
       "        41.44228947, 41.43598258, 41.32910395, 40.46713495, 41.64238274,\n",
       "        41.18277025, 41.1783421 , 41.03288925, 40.77358472, 41.51975226,\n",
       "        40.4882549 , 41.53637421, 41.3415091 , 41.43748021, 40.69205189,\n",
       "        41.71502495, 42.1746856 , 38.80682611, 38.83695066, 41.55168974,\n",
       "        39.89124012]),\n",
       " 'mean_score_time': array([ 68.41940641,  83.25524187,  92.78425741,  71.15688431,\n",
       "         88.18036032,  77.40952587,  77.56782901,  73.10788476,\n",
       "         85.16618752,  71.77151799,  94.37947297,  78.28594971,\n",
       "         80.78605592,  84.97591031,  68.11386204,  71.5039562 ,\n",
       "         76.78584373,  82.82309103,  80.64088607,  72.30933106,\n",
       "         76.93758368,  74.2237711 ,  84.76256752, 105.64386988,\n",
       "         70.03741944, 101.54804933,  66.38777792, 125.17905748,\n",
       "         79.78695214,  71.55389488,  93.68824351,  84.69889462,\n",
       "         72.85307336,  72.08490622,  74.42978811,  84.43976796,\n",
       "         79.52428472, 114.55461812,  74.48697114,  66.93469191,\n",
       "         84.45902061]),\n",
       " 'mean_test_ddtw': array([0.26 , 0.4  , 0.37 , 0.32 , 0.36 , 0.275, 0.355, 0.21 , 0.41 ,\n",
       "        0.335, 0.395, 0.34 , 0.39 , 0.285, 0.32 , 0.265, 0.31 , 0.34 ,\n",
       "        0.34 , 0.385, 0.39 , 0.24 , 0.285, 0.415, 0.275, 0.255, 0.385,\n",
       "        0.28 , 0.245, 0.335, 0.285, 0.33 , 0.265, 0.335, 0.355, 0.215,\n",
       "        0.215, 0.465, 0.325, 0.38 , 0.215]),\n",
       " 'mean_test_dtw': array([0.53 , 0.53 , 0.615, 0.335, 0.605, 0.6  , 0.575, 0.455, 0.355,\n",
       "        0.43 , 0.455, 0.525, 0.465, 0.365, 0.535, 0.5  , 0.435, 0.435,\n",
       "        0.425, 0.68 , 0.545, 0.39 , 0.515, 0.615, 0.465, 0.455, 0.62 ,\n",
       "        0.535, 0.365, 0.455, 0.4  , 0.435, 0.555, 0.555, 0.47 , 0.385,\n",
       "        0.395, 0.7  , 0.555, 0.445, 0.51 ]),\n",
       " 'mean_test_euclidean': array([0.465, 0.46 , 0.525, 0.435, 0.615, 0.665, 0.555, 0.5  , 0.66 ,\n",
       "        0.525, 0.49 , 0.645, 0.635, 0.51 , 0.65 , 0.57 , 0.545, 0.6  ,\n",
       "        0.55 , 0.55 , 0.56 , 0.375, 0.49 , 0.6  , 0.58 , 0.605, 0.63 ,\n",
       "        0.53 , 0.405, 0.55 , 0.48 , 0.465, 0.44 , 0.595, 0.52 , 0.46 ,\n",
       "        0.495, 0.355, 0.56 , 0.535, 0.575]),\n",
       " 'mean_test_sts': array([0.21 , 0.22 , 0.305, 0.26 , 0.295, 0.25 , 0.255, 0.26 , 0.285,\n",
       "        0.255, 0.235, 0.23 , 0.295, 0.21 , 0.3  , 0.22 , 0.225, 0.225,\n",
       "        0.285, 0.24 , 0.31 , 0.265, 0.24 , 0.36 , 0.25 , 0.29 , 0.28 ,\n",
       "        0.265, 0.235, 0.28 , 0.265, 0.245, 0.24 , 0.325, 0.215, 0.235,\n",
       "        0.225, 0.28 , 0.28 , 0.21 , 0.265]),\n",
       " 'mean_train_ddtw': array([0.26 , 0.4  , 0.37 , 0.32 , 0.36 , 0.275, 0.355, 0.21 , 0.41 ,\n",
       "        0.335, 0.395, 0.34 , 0.39 , 0.285, 0.32 , 0.265, 0.31 , 0.34 ,\n",
       "        0.34 , 0.385, 0.39 , 0.24 , 0.285, 0.415, 0.275, 0.255, 0.385,\n",
       "        0.28 , 0.245, 0.335, 0.285, 0.33 , 0.265, 0.335, 0.355, 0.215,\n",
       "        0.215, 0.465, 0.325, 0.38 , 0.215]),\n",
       " 'mean_train_dtw': array([0.53 , 0.53 , 0.615, 0.335, 0.605, 0.6  , 0.575, 0.455, 0.355,\n",
       "        0.43 , 0.455, 0.525, 0.465, 0.365, 0.535, 0.5  , 0.435, 0.435,\n",
       "        0.425, 0.68 , 0.545, 0.39 , 0.515, 0.615, 0.465, 0.455, 0.62 ,\n",
       "        0.535, 0.365, 0.455, 0.4  , 0.435, 0.555, 0.555, 0.47 , 0.385,\n",
       "        0.395, 0.7  , 0.555, 0.445, 0.51 ]),\n",
       " 'mean_train_euclidean': array([0.465, 0.46 , 0.525, 0.435, 0.615, 0.665, 0.555, 0.5  , 0.66 ,\n",
       "        0.525, 0.49 , 0.645, 0.635, 0.51 , 0.65 , 0.57 , 0.545, 0.6  ,\n",
       "        0.55 , 0.55 , 0.56 , 0.375, 0.49 , 0.6  , 0.58 , 0.605, 0.63 ,\n",
       "        0.53 , 0.405, 0.55 , 0.48 , 0.465, 0.44 , 0.595, 0.52 , 0.46 ,\n",
       "        0.495, 0.355, 0.56 , 0.535, 0.575]),\n",
       " 'mean_train_sts': array([0.21 , 0.22 , 0.305, 0.26 , 0.295, 0.25 , 0.255, 0.26 , 0.285,\n",
       "        0.255, 0.235, 0.23 , 0.295, 0.21 , 0.3  , 0.22 , 0.225, 0.225,\n",
       "        0.285, 0.24 , 0.31 , 0.265, 0.24 , 0.36 , 0.25 , 0.29 , 0.28 ,\n",
       "        0.265, 0.235, 0.28 , 0.265, 0.245, 0.24 , 0.325, 0.215, 0.235,\n",
       "        0.225, 0.28 , 0.28 , 0.21 , 0.265]),\n",
       " 'param_nts': masked_array(data=[5, 35, 65, 95, 125, 155, 185, 215, 245, 275, 305, 335,\n",
       "                    365, 395, 425, 455, 485, 515, 545, 575, 605, 635, 665,\n",
       "                    695, 725, 755, 785, 815, 845, 875, 905, 935, 965, 995,\n",
       "                    --, --, --, --, --, --, --],\n",
       "              mask=[False, False, False, False, False, False, False, False,\n",
       "                    False, False, False, False, False, False, False, False,\n",
       "                    False, False, False, False, False, False, False, False,\n",
       "                    False, False, False, False, False, False, False, False,\n",
       "                    False, False,  True,  True,  True,  True,  True,  True,\n",
       "                     True],\n",
       "        fill_value='?',\n",
       "             dtype=object),\n",
       " 'param_signal_variance': masked_array(data=[--, --, --, --, --, --, --, --, --, --, --, --, --, --,\n",
       "                    --, --, --, --, --, --, --, --, --, --, --, --, --, --,\n",
       "                    --, --, --, --, --, --, 0.8, 0.9, 1.0, 1.1, 1.2,\n",
       "                    1.2999999999999998, 1.4],\n",
       "              mask=[ True,  True,  True,  True,  True,  True,  True,  True,\n",
       "                     True,  True,  True,  True,  True,  True,  True,  True,\n",
       "                     True,  True,  True,  True,  True,  True,  True,  True,\n",
       "                     True,  True,  True,  True,  True,  True,  True,  True,\n",
       "                     True,  True, False, False, False, False, False, False,\n",
       "                    False],\n",
       "        fill_value='?',\n",
       "             dtype=object),\n",
       " 'params': [{'nts': 5},\n",
       "  {'nts': 35},\n",
       "  {'nts': 65},\n",
       "  {'nts': 95},\n",
       "  {'nts': 125},\n",
       "  {'nts': 155},\n",
       "  {'nts': 185},\n",
       "  {'nts': 215},\n",
       "  {'nts': 245},\n",
       "  {'nts': 275},\n",
       "  {'nts': 305},\n",
       "  {'nts': 335},\n",
       "  {'nts': 365},\n",
       "  {'nts': 395},\n",
       "  {'nts': 425},\n",
       "  {'nts': 455},\n",
       "  {'nts': 485},\n",
       "  {'nts': 515},\n",
       "  {'nts': 545},\n",
       "  {'nts': 575},\n",
       "  {'nts': 605},\n",
       "  {'nts': 635},\n",
       "  {'nts': 665},\n",
       "  {'nts': 695},\n",
       "  {'nts': 725},\n",
       "  {'nts': 755},\n",
       "  {'nts': 785},\n",
       "  {'nts': 815},\n",
       "  {'nts': 845},\n",
       "  {'nts': 875},\n",
       "  {'nts': 905},\n",
       "  {'nts': 935},\n",
       "  {'nts': 965},\n",
       "  {'nts': 995},\n",
       "  {'signal_variance': 0.8},\n",
       "  {'signal_variance': 0.9},\n",
       "  {'signal_variance': 1.0},\n",
       "  {'signal_variance': 1.1},\n",
       "  {'signal_variance': 1.2},\n",
       "  {'signal_variance': 1.2999999999999998},\n",
       "  {'signal_variance': 1.4}],\n",
       " 'rank_test_ddtw': array([34,  4, 11, 23, 12, 30, 13, 41,  3, 18,  5, 17,  6, 26, 23, 32, 25,\n",
       "        15, 15,  8,  6, 37, 27,  2, 30, 35,  8, 29, 36, 18, 27, 21, 32, 18,\n",
       "        13, 38, 40,  1, 22, 10, 38], dtype=int32),\n",
       " 'rank_test_dtw': array([15, 15,  4, 41,  6,  7,  8, 25, 40, 32, 25, 17, 22, 38, 13, 20, 29,\n",
       "        29, 33,  2, 12, 36, 18,  4, 22, 25,  3, 13, 39, 24, 34, 29, 11,  9,\n",
       "        21, 37, 35,  1,  9, 28, 19], dtype=int32),\n",
       " 'rank_test_euclidean': array([33, 35, 24, 38,  7,  1, 17, 28,  2, 24, 30,  4,  5, 27,  3, 14, 21,\n",
       "         9, 18, 18, 15, 40, 30,  9, 12,  8,  6, 23, 39, 18, 32, 33, 37, 11,\n",
       "        26, 35, 29, 41, 15, 22, 13], dtype=int32),\n",
       " 'rank_test_sts': array([39, 36,  4, 20,  6, 23, 21, 19,  9, 21, 30, 32,  6, 39,  5, 36, 33,\n",
       "        33,  9, 27,  3, 15, 26,  1, 23,  8, 11, 15, 30, 11, 15, 25, 27,  2,\n",
       "        38, 29, 33, 11, 11, 39, 15], dtype=int32),\n",
       " 'split0_test_ddtw': array([0.22, 0.36, 0.3 , 0.45, 0.42, 0.18, 0.25, 0.26, 0.45, 0.33, 0.34,\n",
       "        0.36, 0.58, 0.22, 0.26, 0.23, 0.32, 0.39, 0.37, 0.28, 0.44, 0.31,\n",
       "        0.28, 0.44, 0.24, 0.28, 0.39, 0.38, 0.21, 0.26, 0.28, 0.46, 0.27,\n",
       "        0.5 , 0.33, 0.21, 0.29, 0.45, 0.37, 0.39, 0.27]),\n",
       " 'split0_test_dtw': array([0.39, 0.5 , 0.55, 0.44, 0.66, 0.71, 0.57, 0.72, 0.1 , 0.48, 0.4 ,\n",
       "        0.59, 0.58, 0.29, 0.43, 0.58, 0.52, 0.49, 0.38, 0.44, 0.58, 0.36,\n",
       "        0.55, 0.72, 0.49, 0.4 , 0.74, 0.49, 0.43, 0.52, 0.45, 0.58, 0.5 ,\n",
       "        0.64, 0.46, 0.4 , 0.33, 0.73, 0.58, 0.42, 0.46]),\n",
       " 'split0_test_euclidean': array([0.43, 0.46, 0.53, 0.6 , 0.76, 0.67, 0.54, 0.55, 0.65, 0.66, 0.56,\n",
       "        0.65, 0.79, 0.47, 0.69, 0.72, 0.68, 0.61, 0.44, 0.4 , 0.58, 0.41,\n",
       "        0.46, 0.62, 0.6 , 0.53, 0.67, 0.57, 0.36, 0.59, 0.55, 0.59, 0.44,\n",
       "        0.72, 0.46, 0.5 , 0.46, 0.61, 0.51, 0.59, 0.62]),\n",
       " 'split0_test_sts': array([0.27, 0.23, 0.26, 0.33, 0.31, 0.29, 0.26, 0.27, 0.25, 0.24, 0.23,\n",
       "        0.22, 0.31, 0.16, 0.26, 0.22, 0.23, 0.26, 0.22, 0.24, 0.31, 0.23,\n",
       "        0.26, 0.36, 0.21, 0.26, 0.35, 0.29, 0.24, 0.33, 0.3 , 0.25, 0.23,\n",
       "        0.36, 0.15, 0.22, 0.26, 0.26, 0.3 , 0.2 , 0.28]),\n",
       " 'split0_train_ddtw': array([0.22, 0.36, 0.3 , 0.45, 0.42, 0.18, 0.25, 0.26, 0.45, 0.33, 0.34,\n",
       "        0.36, 0.58, 0.22, 0.26, 0.23, 0.32, 0.39, 0.37, 0.28, 0.44, 0.31,\n",
       "        0.28, 0.44, 0.24, 0.28, 0.39, 0.38, 0.21, 0.26, 0.28, 0.46, 0.27,\n",
       "        0.5 , 0.33, 0.21, 0.29, 0.45, 0.37, 0.39, 0.27]),\n",
       " 'split0_train_dtw': array([0.39, 0.5 , 0.55, 0.44, 0.66, 0.71, 0.57, 0.72, 0.1 , 0.48, 0.4 ,\n",
       "        0.59, 0.58, 0.29, 0.43, 0.58, 0.52, 0.49, 0.38, 0.44, 0.58, 0.36,\n",
       "        0.55, 0.72, 0.49, 0.4 , 0.74, 0.49, 0.43, 0.52, 0.45, 0.58, 0.5 ,\n",
       "        0.64, 0.46, 0.4 , 0.33, 0.73, 0.58, 0.42, 0.46]),\n",
       " 'split0_train_euclidean': array([0.43, 0.46, 0.53, 0.6 , 0.76, 0.67, 0.54, 0.55, 0.65, 0.66, 0.56,\n",
       "        0.65, 0.79, 0.47, 0.69, 0.72, 0.68, 0.61, 0.44, 0.4 , 0.58, 0.41,\n",
       "        0.46, 0.62, 0.6 , 0.53, 0.67, 0.57, 0.36, 0.59, 0.55, 0.59, 0.44,\n",
       "        0.72, 0.46, 0.5 , 0.46, 0.61, 0.51, 0.59, 0.62]),\n",
       " 'split0_train_sts': array([0.27, 0.23, 0.26, 0.33, 0.31, 0.29, 0.26, 0.27, 0.25, 0.24, 0.23,\n",
       "        0.22, 0.31, 0.16, 0.26, 0.22, 0.23, 0.26, 0.22, 0.24, 0.31, 0.23,\n",
       "        0.26, 0.36, 0.21, 0.26, 0.35, 0.29, 0.24, 0.33, 0.3 , 0.25, 0.23,\n",
       "        0.36, 0.15, 0.22, 0.26, 0.26, 0.3 , 0.2 , 0.28]),\n",
       " 'split1_test_ddtw': array([0.3 , 0.44, 0.44, 0.19, 0.3 , 0.37, 0.46, 0.16, 0.37, 0.34, 0.45,\n",
       "        0.32, 0.2 , 0.35, 0.38, 0.3 , 0.3 , 0.29, 0.31, 0.49, 0.34, 0.17,\n",
       "        0.29, 0.39, 0.31, 0.23, 0.38, 0.18, 0.28, 0.41, 0.29, 0.2 , 0.26,\n",
       "        0.17, 0.38, 0.22, 0.14, 0.48, 0.28, 0.37, 0.16]),\n",
       " 'split1_test_dtw': array([0.67, 0.56, 0.68, 0.23, 0.55, 0.49, 0.58, 0.19, 0.61, 0.38, 0.51,\n",
       "        0.46, 0.35, 0.44, 0.64, 0.42, 0.35, 0.38, 0.47, 0.92, 0.51, 0.42,\n",
       "        0.48, 0.51, 0.44, 0.51, 0.5 , 0.58, 0.3 , 0.39, 0.35, 0.29, 0.61,\n",
       "        0.47, 0.48, 0.37, 0.46, 0.67, 0.53, 0.47, 0.56]),\n",
       " 'split1_test_euclidean': array([0.5 , 0.46, 0.52, 0.27, 0.47, 0.66, 0.57, 0.45, 0.67, 0.39, 0.42,\n",
       "        0.64, 0.48, 0.55, 0.61, 0.42, 0.41, 0.59, 0.66, 0.7 , 0.54, 0.34,\n",
       "        0.52, 0.58, 0.56, 0.68, 0.59, 0.49, 0.45, 0.51, 0.41, 0.34, 0.44,\n",
       "        0.47, 0.58, 0.42, 0.53, 0.1 , 0.61, 0.48, 0.53]),\n",
       " 'split1_test_sts': array([0.15, 0.21, 0.35, 0.19, 0.28, 0.21, 0.25, 0.25, 0.32, 0.27, 0.24,\n",
       "        0.24, 0.28, 0.26, 0.34, 0.22, 0.22, 0.19, 0.35, 0.24, 0.31, 0.3 ,\n",
       "        0.22, 0.36, 0.29, 0.32, 0.21, 0.24, 0.23, 0.23, 0.23, 0.24, 0.25,\n",
       "        0.29, 0.28, 0.25, 0.19, 0.3 , 0.26, 0.22, 0.25]),\n",
       " 'split1_train_ddtw': array([0.3 , 0.44, 0.44, 0.19, 0.3 , 0.37, 0.46, 0.16, 0.37, 0.34, 0.45,\n",
       "        0.32, 0.2 , 0.35, 0.38, 0.3 , 0.3 , 0.29, 0.31, 0.49, 0.34, 0.17,\n",
       "        0.29, 0.39, 0.31, 0.23, 0.38, 0.18, 0.28, 0.41, 0.29, 0.2 , 0.26,\n",
       "        0.17, 0.38, 0.22, 0.14, 0.48, 0.28, 0.37, 0.16]),\n",
       " 'split1_train_dtw': array([0.67, 0.56, 0.68, 0.23, 0.55, 0.49, 0.58, 0.19, 0.61, 0.38, 0.51,\n",
       "        0.46, 0.35, 0.44, 0.64, 0.42, 0.35, 0.38, 0.47, 0.92, 0.51, 0.42,\n",
       "        0.48, 0.51, 0.44, 0.51, 0.5 , 0.58, 0.3 , 0.39, 0.35, 0.29, 0.61,\n",
       "        0.47, 0.48, 0.37, 0.46, 0.67, 0.53, 0.47, 0.56]),\n",
       " 'split1_train_euclidean': array([0.5 , 0.46, 0.52, 0.27, 0.47, 0.66, 0.57, 0.45, 0.67, 0.39, 0.42,\n",
       "        0.64, 0.48, 0.55, 0.61, 0.42, 0.41, 0.59, 0.66, 0.7 , 0.54, 0.34,\n",
       "        0.52, 0.58, 0.56, 0.68, 0.59, 0.49, 0.45, 0.51, 0.41, 0.34, 0.44,\n",
       "        0.47, 0.58, 0.42, 0.53, 0.1 , 0.61, 0.48, 0.53]),\n",
       " 'split1_train_sts': array([0.15, 0.21, 0.35, 0.19, 0.28, 0.21, 0.25, 0.25, 0.32, 0.27, 0.24,\n",
       "        0.24, 0.28, 0.26, 0.34, 0.22, 0.22, 0.19, 0.35, 0.24, 0.31, 0.3 ,\n",
       "        0.22, 0.36, 0.29, 0.32, 0.21, 0.24, 0.23, 0.23, 0.23, 0.24, 0.25,\n",
       "        0.29, 0.28, 0.25, 0.19, 0.3 , 0.26, 0.22, 0.25]),\n",
       " 'std_fit_time': array([0.40263295, 0.11436796, 3.28806949, 0.00731909, 2.09287286,\n",
       "        0.24255455, 0.10709155, 1.33605599, 3.4589107 , 0.89887774,\n",
       "        0.01665819, 0.28767931, 0.08896506, 0.64170408, 0.01795411,\n",
       "        0.54157758, 0.17162895, 1.09307098, 0.65014899, 0.09033883,\n",
       "        0.51158559, 0.42442477, 0.17020297, 0.88861632, 0.27733529,\n",
       "        0.66170454, 1.07334638, 0.36496723, 0.74126804, 0.0177803 ,\n",
       "        1.15394366, 0.38064873, 0.33841777, 0.0218668 , 0.15808058,\n",
       "        0.70514584, 0.41634905, 2.53948402, 1.50037181, 0.04638922,\n",
       "        0.11557174]),\n",
       " 'std_score_time': array([ 3.16142726,  0.91875839,  3.26453495,  5.59951055,  7.02453566,\n",
       "         7.14283228,  2.16178596,  7.20483935,  2.01216698,  6.94284773,\n",
       "        14.03917003,  0.96616936,  9.3316654 ,  3.00785625,  2.45497608,\n",
       "         0.24621618,  9.61059558,  4.33895731,  3.30829048,  0.38148963,\n",
       "         2.93882012,  3.86978745,  7.87577009, 17.05983686,  1.72641861,\n",
       "        22.51479566,  2.12789738, 45.52574289,  3.62474954,  0.09237063,\n",
       "        12.63278806,  0.91373336,  8.00792003,  0.15785372, 15.33858204,\n",
       "        22.28439558, 22.73501146, 34.73715019,  6.07900572,  6.3246944 ,\n",
       "         1.02143216]),\n",
       " 'std_test_ddtw': array([0.04 , 0.04 , 0.07 , 0.13 , 0.06 , 0.095, 0.105, 0.05 , 0.04 ,\n",
       "        0.005, 0.055, 0.02 , 0.19 , 0.065, 0.06 , 0.035, 0.01 , 0.05 ,\n",
       "        0.03 , 0.105, 0.05 , 0.07 , 0.005, 0.025, 0.035, 0.025, 0.005,\n",
       "        0.1  , 0.035, 0.075, 0.005, 0.13 , 0.005, 0.165, 0.025, 0.005,\n",
       "        0.075, 0.015, 0.045, 0.01 , 0.055]),\n",
       " 'std_test_dtw': array([0.14 , 0.03 , 0.065, 0.105, 0.055, 0.11 , 0.005, 0.265, 0.255,\n",
       "        0.05 , 0.055, 0.065, 0.115, 0.075, 0.105, 0.08 , 0.085, 0.055,\n",
       "        0.045, 0.24 , 0.035, 0.03 , 0.035, 0.105, 0.025, 0.055, 0.12 ,\n",
       "        0.045, 0.065, 0.065, 0.05 , 0.145, 0.055, 0.085, 0.01 , 0.015,\n",
       "        0.065, 0.03 , 0.025, 0.025, 0.05 ]),\n",
       " 'std_test_euclidean': array([0.035, 0.   , 0.005, 0.165, 0.145, 0.005, 0.015, 0.05 , 0.01 ,\n",
       "        0.135, 0.07 , 0.005, 0.155, 0.04 , 0.04 , 0.15 , 0.135, 0.01 ,\n",
       "        0.11 , 0.15 , 0.02 , 0.035, 0.03 , 0.02 , 0.02 , 0.075, 0.04 ,\n",
       "        0.04 , 0.045, 0.04 , 0.07 , 0.125, 0.   , 0.125, 0.06 , 0.04 ,\n",
       "        0.035, 0.255, 0.05 , 0.055, 0.045]),\n",
       " 'std_test_sts': array([0.06 , 0.01 , 0.045, 0.07 , 0.015, 0.04 , 0.005, 0.01 , 0.035,\n",
       "        0.015, 0.005, 0.01 , 0.015, 0.05 , 0.04 , 0.   , 0.005, 0.035,\n",
       "        0.065, 0.   , 0.   , 0.035, 0.02 , 0.   , 0.04 , 0.03 , 0.07 ,\n",
       "        0.025, 0.005, 0.05 , 0.035, 0.005, 0.01 , 0.035, 0.065, 0.015,\n",
       "        0.035, 0.02 , 0.02 , 0.01 , 0.015]),\n",
       " 'std_train_ddtw': array([0.04 , 0.04 , 0.07 , 0.13 , 0.06 , 0.095, 0.105, 0.05 , 0.04 ,\n",
       "        0.005, 0.055, 0.02 , 0.19 , 0.065, 0.06 , 0.035, 0.01 , 0.05 ,\n",
       "        0.03 , 0.105, 0.05 , 0.07 , 0.005, 0.025, 0.035, 0.025, 0.005,\n",
       "        0.1  , 0.035, 0.075, 0.005, 0.13 , 0.005, 0.165, 0.025, 0.005,\n",
       "        0.075, 0.015, 0.045, 0.01 , 0.055]),\n",
       " 'std_train_dtw': array([0.14 , 0.03 , 0.065, 0.105, 0.055, 0.11 , 0.005, 0.265, 0.255,\n",
       "        0.05 , 0.055, 0.065, 0.115, 0.075, 0.105, 0.08 , 0.085, 0.055,\n",
       "        0.045, 0.24 , 0.035, 0.03 , 0.035, 0.105, 0.025, 0.055, 0.12 ,\n",
       "        0.045, 0.065, 0.065, 0.05 , 0.145, 0.055, 0.085, 0.01 , 0.015,\n",
       "        0.065, 0.03 , 0.025, 0.025, 0.05 ]),\n",
       " 'std_train_euclidean': array([0.035, 0.   , 0.005, 0.165, 0.145, 0.005, 0.015, 0.05 , 0.01 ,\n",
       "        0.135, 0.07 , 0.005, 0.155, 0.04 , 0.04 , 0.15 , 0.135, 0.01 ,\n",
       "        0.11 , 0.15 , 0.02 , 0.035, 0.03 , 0.02 , 0.02 , 0.075, 0.04 ,\n",
       "        0.04 , 0.045, 0.04 , 0.07 , 0.125, 0.   , 0.125, 0.06 , 0.04 ,\n",
       "        0.035, 0.255, 0.05 , 0.055, 0.045]),\n",
       " 'std_train_sts': array([0.06 , 0.01 , 0.045, 0.07 , 0.015, 0.04 , 0.005, 0.01 , 0.035,\n",
       "        0.015, 0.005, 0.01 , 0.015, 0.05 , 0.04 , 0.   , 0.005, 0.035,\n",
       "        0.065, 0.   , 0.   , 0.035, 0.02 , 0.   , 0.04 , 0.03 , 0.07 ,\n",
       "        0.025, 0.005, 0.05 , 0.035, 0.005, 0.01 , 0.035, 0.065, 0.015,\n",
       "        0.035, 0.02 , 0.02 , 0.01 , 0.015])}"
      ]
     },
     "execution_count": 34,
     "metadata": {},
     "output_type": "execute_result"
    }
   ],
   "source": [
    "gs.cv_results_"
   ]
  },
  {
   "cell_type": "code",
   "execution_count": 4,
   "metadata": {},
   "outputs": [
    {
     "data": {
      "text/plain": [
       "0.6799999999999999"
      ]
     },
     "execution_count": 4,
     "metadata": {},
     "output_type": "execute_result"
    }
   ],
   "source": [
    "asc.score(\"euclidean\")"
   ]
  },
  {
   "cell_type": "code",
   "execution_count": 5,
   "metadata": {},
   "outputs": [
    {
     "data": {
      "text/plain": [
       "0.29"
      ]
     },
     "execution_count": 5,
     "metadata": {},
     "output_type": "execute_result"
    }
   ],
   "source": [
    "asc.score(\"sts\")"
   ]
  },
  {
   "cell_type": "code",
   "execution_count": 29,
   "metadata": {},
   "outputs": [
    {
     "data": {
      "text/plain": [
       "array([  5,  35,  65,  95, 125, 155, 185, 215, 245, 275, 305, 335, 365,\n",
       "       395, 425, 455, 485, 515, 545, 575, 605, 635, 665, 695, 725, 755,\n",
       "       785, 815, 845, 875, 905, 935, 965, 995])"
      ]
     },
     "execution_count": 29,
     "metadata": {},
     "output_type": "execute_result"
    }
   ],
   "source": [
    "np.arange(5,1000,30)"
   ]
  },
  {
   "cell_type": "code",
   "execution_count": 35,
   "metadata": {},
   "outputs": [
    {
     "data": {
      "text/plain": [
       "{'max_shift': 10,\n",
       " 'nclust': 10,\n",
       " 'noise_ratio': 1,\n",
       " 'nts': 20,\n",
       " 'nts_per_clust': 10,\n",
       " 'signal_variance': 1.2}"
      ]
     },
     "execution_count": 35,
     "metadata": {},
     "output_type": "execute_result"
    }
   ],
   "source": [
    "asc.get_params()"
   ]
  },
  {
   "cell_type": "code",
   "execution_count": null,
   "metadata": {},
   "outputs": [],
   "source": []
  }
 ],
 "metadata": {
  "kernelspec": {
   "display_name": "Environment (conda_ananke)",
   "language": "python",
   "name": "conda_ananke"
  },
  "language_info": {
   "codemirror_mode": {
    "name": "ipython",
    "version": 3
   },
   "file_extension": ".py",
   "mimetype": "text/x-python",
   "name": "python",
   "nbconvert_exporter": "python",
   "pygments_lexer": "ipython3",
   "version": "3.6.4"
  }
 },
 "nbformat": 4,
 "nbformat_minor": 2
}
